{
 "cells": [
  {
   "cell_type": "code",
   "execution_count": 1,
   "metadata": {},
   "outputs": [],
   "source": [
    "import glob\n",
    "from pandas import DataFrame as df\n",
    "from sklearn.model_selection import train_test_split"
   ]
  },
  {
   "cell_type": "code",
   "execution_count": 2,
   "metadata": {},
   "outputs": [],
   "source": [
    "items=glob.glob(r'PlantVillage-Dataset\\raw\\color\\Grape*\\*.JPG',recursive=True)\n",
    "data=df(columns=['Item'],data=items)\n",
    "data['Folder']=data['Item'].str.rsplit('\\\\', 1, expand=True)[0]\n",
    "data['Folder']=data['Folder'].str.rsplit('\\\\', 1, expand=True)[1]\n",
    "data['Species']=data['Folder'].str.rsplit('___', 1, expand=True)[0]\n",
    "data['Disease']=data['Folder'].str.rsplit('___', 1, expand=True)[1]\n",
    "data['Image']=data['Item'].str.rsplit('\\\\', 1, expand=True)[1]\n",
    "data.drop(['Species','Item','Folder'],axis=1,inplace=True)"
   ]
  },
  {
   "cell_type": "code",
   "execution_count": 3,
   "metadata": {},
   "outputs": [
    {
     "data": {
      "text/html": [
       "<div>\n",
       "<style scoped>\n",
       "    .dataframe tbody tr th:only-of-type {\n",
       "        vertical-align: middle;\n",
       "    }\n",
       "\n",
       "    .dataframe tbody tr th {\n",
       "        vertical-align: top;\n",
       "    }\n",
       "\n",
       "    .dataframe thead th {\n",
       "        text-align: right;\n",
       "    }\n",
       "</style>\n",
       "<table border=\"1\" class=\"dataframe\">\n",
       "  <thead>\n",
       "    <tr style=\"text-align: right;\">\n",
       "      <th></th>\n",
       "      <th>Disease</th>\n",
       "      <th>Image</th>\n",
       "    </tr>\n",
       "  </thead>\n",
       "  <tbody>\n",
       "    <tr>\n",
       "      <th>0</th>\n",
       "      <td>Black_rot</td>\n",
       "      <td>00090b0f-c140-4e77-8d20-d39f67b75fcc___FAM_B.R...</td>\n",
       "    </tr>\n",
       "    <tr>\n",
       "      <th>1</th>\n",
       "      <td>Black_rot</td>\n",
       "      <td>003d09ef-e16c-4e8a-badf-847d46cb3dc0___FAM_B.R...</td>\n",
       "    </tr>\n",
       "    <tr>\n",
       "      <th>2</th>\n",
       "      <td>Black_rot</td>\n",
       "      <td>004175d8-dc74-4285-8401-3cc9565730bb___FAM_B.R...</td>\n",
       "    </tr>\n",
       "    <tr>\n",
       "      <th>3</th>\n",
       "      <td>Black_rot</td>\n",
       "      <td>006efc68-9e46-4168-921c-10ef8065702c___FAM_B.R...</td>\n",
       "    </tr>\n",
       "    <tr>\n",
       "      <th>4</th>\n",
       "      <td>Black_rot</td>\n",
       "      <td>00905d40-bddf-460e-b348-1dbb6a34653b___FAM_B.R...</td>\n",
       "    </tr>\n",
       "  </tbody>\n",
       "</table>\n",
       "</div>"
      ],
      "text/plain": [
       "     Disease                                              Image\n",
       "0  Black_rot  00090b0f-c140-4e77-8d20-d39f67b75fcc___FAM_B.R...\n",
       "1  Black_rot  003d09ef-e16c-4e8a-badf-847d46cb3dc0___FAM_B.R...\n",
       "2  Black_rot  004175d8-dc74-4285-8401-3cc9565730bb___FAM_B.R...\n",
       "3  Black_rot  006efc68-9e46-4168-921c-10ef8065702c___FAM_B.R...\n",
       "4  Black_rot  00905d40-bddf-460e-b348-1dbb6a34653b___FAM_B.R..."
      ]
     },
     "execution_count": 3,
     "metadata": {},
     "output_type": "execute_result"
    }
   ],
   "source": [
    "data.head()"
   ]
  },
  {
   "cell_type": "code",
   "execution_count": 4,
   "metadata": {},
   "outputs": [],
   "source": [
    "X=data.drop(['Disease'],axis=1)\n",
    "y=data['Disease']"
   ]
  },
  {
   "cell_type": "code",
   "execution_count": 5,
   "metadata": {},
   "outputs": [],
   "source": [
    "X_train, X_test, y_train, y_test = train_test_split(X, y, test_size=0.33, random_state=42, stratify=y)"
   ]
  }
 ],
 "metadata": {
  "kernelspec": {
   "display_name": "Python 3",
   "language": "python",
   "name": "python3"
  },
  "language_info": {
   "codemirror_mode": {
    "name": "ipython",
    "version": 3
   },
   "file_extension": ".py",
   "mimetype": "text/x-python",
   "name": "python",
   "nbconvert_exporter": "python",
   "pygments_lexer": "ipython3",
   "version": "3.7.1"
  }
 },
 "nbformat": 4,
 "nbformat_minor": 2
}
